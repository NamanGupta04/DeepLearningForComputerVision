{
 "cells": [
  {
   "cell_type": "code",
   "execution_count": 4,
   "id": "c0e21ecb-0709-4c97-a38d-847cf67f8271",
   "metadata": {},
   "outputs": [],
   "source": [
    "import tensorflow as tf"
   ]
  },
  {
   "cell_type": "code",
   "execution_count": 5,
   "id": "d215242e-8777-4a6a-ba44-be9cae600f2b",
   "metadata": {},
   "outputs": [
    {
     "name": "stdout",
     "output_type": "stream",
     "text": [
      "tf.Tensor(4, shape=(), dtype=int32)\n"
     ]
    }
   ],
   "source": [
    "tensor_zero_d = tf.constant(4)\n",
    "print(tensor_zero_d)"
   ]
  },
  {
   "cell_type": "code",
   "execution_count": 6,
   "id": "efb131d4-8048-414a-889b-3e081011e002",
   "metadata": {},
   "outputs": [
    {
     "name": "stdout",
     "output_type": "stream",
     "text": [
      "tf.Tensor([1 2 3], shape=(3,), dtype=int32)\n"
     ]
    }
   ],
   "source": [
    "tensor_one_d = tf.constant([1,2,3])\n",
    "print(tensor_one_d)"
   ]
  },
  {
   "cell_type": "code",
   "execution_count": 7,
   "id": "adc19c06-82fd-42f8-abb2-2d9806c238f8",
   "metadata": {},
   "outputs": [
    {
     "name": "stdout",
     "output_type": "stream",
     "text": [
      "tf.Tensor(\n",
      "[[1 2 3]\n",
      " [4 5 6]\n",
      " [7 8 9]], shape=(3, 3), dtype=int32)\n"
     ]
    }
   ],
   "source": [
    "tensor_two_d = tf.constant([[1,2,3],[4,5,6],[7,8,9]])\n",
    "print(tensor_two_d)"
   ]
  },
  {
   "cell_type": "code",
   "execution_count": 8,
   "id": "d6a81b65-df09-4943-9615-931bf0b42f74",
   "metadata": {},
   "outputs": [
    {
     "name": "stdout",
     "output_type": "stream",
     "text": [
      "tf.Tensor(\n",
      "[[[1 2 3]\n",
      "  [4 5 6]]\n",
      "\n",
      " [[1 2 3]\n",
      "  [4 5 6]]\n",
      "\n",
      " [[1 2 3]\n",
      "  [4 5 6]]\n",
      "\n",
      " [[1 2 3]\n",
      "  [4 5 6]]], shape=(4, 2, 3), dtype=int32)\n"
     ]
    }
   ],
   "source": [
    "tensor_three_d =  tf.constant([\n",
    "    [[1,2,3],[4,5,6]],\n",
    "    [[1,2,3],[4,5,6]],\n",
    "    [[1,2,3],[4,5,6]],\n",
    "    [[1,2,3],[4,5,6]]\n",
    "])\n",
    "print(tensor_three_d)"
   ]
  },
  {
   "cell_type": "code",
   "execution_count": 9,
   "id": "7f14c2a5-5fba-466a-859b-3cb1f21bc4ee",
   "metadata": {},
   "outputs": [],
   "source": [
    "## using tf.cast we can change the dtype of the tensor\n"
   ]
  },
  {
   "cell_type": "code",
   "execution_count": 10,
   "id": "2a0294de-62c5-4546-b60f-c30462ca98c3",
   "metadata": {},
   "outputs": [],
   "source": [
    "import numpy as np"
   ]
  },
  {
   "cell_type": "code",
   "execution_count": 11,
   "id": "2ca9fb14-a9ea-4c09-922e-6c32969c8230",
   "metadata": {},
   "outputs": [
    {
     "name": "stdout",
     "output_type": "stream",
     "text": [
      "[1 2 3 4]\n"
     ]
    }
   ],
   "source": [
    "np_array = np.array([1,2,3,4])\n",
    "print(np_array)"
   ]
  },
  {
   "cell_type": "code",
   "execution_count": 12,
   "id": "038c3010-d88d-46b1-97b5-d2236ebeab3f",
   "metadata": {},
   "outputs": [
    {
     "name": "stdout",
     "output_type": "stream",
     "text": [
      "tf.Tensor([1 2 3 4], shape=(4,), dtype=int32)\n"
     ]
    }
   ],
   "source": [
    "convert_tensor = tf.convert_to_tensor(np_array)\n",
    "print(convert_tensor)"
   ]
  },
  {
   "cell_type": "code",
   "execution_count": null,
   "id": "63d053b0-95cd-487f-9c1e-731b8930fb4a",
   "metadata": {},
   "outputs": [],
   "source": []
  },
  {
   "cell_type": "code",
   "execution_count": null,
   "id": "6d15e3f4-b208-4ab6-8671-ed3fd2a6c38a",
   "metadata": {},
   "outputs": [],
   "source": []
  }
 ],
 "metadata": {
  "kernelspec": {
   "display_name": "Python 3 (ipykernel)",
   "language": "python",
   "name": "python3"
  },
  "language_info": {
   "codemirror_mode": {
    "name": "ipython",
    "version": 3
   },
   "file_extension": ".py",
   "mimetype": "text/x-python",
   "name": "python",
   "nbconvert_exporter": "python",
   "pygments_lexer": "ipython3",
   "version": "3.11.7"
  }
 },
 "nbformat": 4,
 "nbformat_minor": 5
}
